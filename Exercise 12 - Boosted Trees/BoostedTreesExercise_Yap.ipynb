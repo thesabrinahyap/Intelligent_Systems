{
 "cells": [
  {
   "cell_type": "markdown",
   "id": "f14fe73f",
   "metadata": {},
   "source": [
    "# Boosted Trees Exercise"
   ]
  },
  {
   "cell_type": "markdown",
   "id": "d45a22ec",
   "metadata": {},
   "source": [
    "Using the following dataset : http://archive.ics.uci.edu/dataset/19/car+evaluation"
   ]
  },
  {
   "cell_type": "markdown",
   "id": "7b4cd86a",
   "metadata": {},
   "source": [
    "Preliminaries"
   ]
  },
  {
   "cell_type": "code",
   "execution_count": 2,
   "id": "9cc7dd73",
   "metadata": {},
   "outputs": [],
   "source": [
    "import pandas as pd\n",
    "from sklearn.model_selection import train_test_split\n",
    "from sklearn.preprocessing import LabelEncoder\n",
    "from sklearn.metrics import classification_report\n",
    "from xgboost import XGBClassifier\n",
    "from catboost import CatBoostClassifier"
   ]
  },
  {
   "cell_type": "code",
   "execution_count": 5,
   "id": "ab2b76b0",
   "metadata": {},
   "outputs": [
    {
     "data": {
      "text/html": [
       "<div>\n",
       "<style scoped>\n",
       "    .dataframe tbody tr th:only-of-type {\n",
       "        vertical-align: middle;\n",
       "    }\n",
       "\n",
       "    .dataframe tbody tr th {\n",
       "        vertical-align: top;\n",
       "    }\n",
       "\n",
       "    .dataframe thead th {\n",
       "        text-align: right;\n",
       "    }\n",
       "</style>\n",
       "<table border=\"1\" class=\"dataframe\">\n",
       "  <thead>\n",
       "    <tr style=\"text-align: right;\">\n",
       "      <th></th>\n",
       "      <th>buying</th>\n",
       "      <th>maint</th>\n",
       "      <th>doors</th>\n",
       "      <th>persons</th>\n",
       "      <th>lug_boot</th>\n",
       "      <th>safety</th>\n",
       "      <th>class</th>\n",
       "    </tr>\n",
       "  </thead>\n",
       "  <tbody>\n",
       "    <tr>\n",
       "      <th>0</th>\n",
       "      <td>vhigh</td>\n",
       "      <td>vhigh</td>\n",
       "      <td>2</td>\n",
       "      <td>2</td>\n",
       "      <td>small</td>\n",
       "      <td>low</td>\n",
       "      <td>unacc</td>\n",
       "    </tr>\n",
       "    <tr>\n",
       "      <th>1</th>\n",
       "      <td>vhigh</td>\n",
       "      <td>vhigh</td>\n",
       "      <td>2</td>\n",
       "      <td>2</td>\n",
       "      <td>small</td>\n",
       "      <td>med</td>\n",
       "      <td>unacc</td>\n",
       "    </tr>\n",
       "    <tr>\n",
       "      <th>2</th>\n",
       "      <td>vhigh</td>\n",
       "      <td>vhigh</td>\n",
       "      <td>2</td>\n",
       "      <td>2</td>\n",
       "      <td>small</td>\n",
       "      <td>high</td>\n",
       "      <td>unacc</td>\n",
       "    </tr>\n",
       "    <tr>\n",
       "      <th>3</th>\n",
       "      <td>vhigh</td>\n",
       "      <td>vhigh</td>\n",
       "      <td>2</td>\n",
       "      <td>2</td>\n",
       "      <td>med</td>\n",
       "      <td>low</td>\n",
       "      <td>unacc</td>\n",
       "    </tr>\n",
       "    <tr>\n",
       "      <th>4</th>\n",
       "      <td>vhigh</td>\n",
       "      <td>vhigh</td>\n",
       "      <td>2</td>\n",
       "      <td>2</td>\n",
       "      <td>med</td>\n",
       "      <td>med</td>\n",
       "      <td>unacc</td>\n",
       "    </tr>\n",
       "  </tbody>\n",
       "</table>\n",
       "</div>"
      ],
      "text/plain": [
       "  buying  maint doors persons lug_boot safety  class\n",
       "0  vhigh  vhigh     2       2    small    low  unacc\n",
       "1  vhigh  vhigh     2       2    small    med  unacc\n",
       "2  vhigh  vhigh     2       2    small   high  unacc\n",
       "3  vhigh  vhigh     2       2      med    low  unacc\n",
       "4  vhigh  vhigh     2       2      med    med  unacc"
      ]
     },
     "execution_count": 5,
     "metadata": {},
     "output_type": "execute_result"
    }
   ],
   "source": [
    "file_path_csv = \"./dataset/car.data.csv\" \n",
    "columns = ['buying', 'maint', 'doors', 'persons', 'lug_boot', 'safety', 'class']\n",
    "car_data = pd.read_csv(file_path_csv, names=columns)\n",
    "car_data.head()"
   ]
  },
  {
   "cell_type": "markdown",
   "id": "533b7687",
   "metadata": {},
   "source": [
    "1. Apply XGBoost classifier on the dataset using the following parameter : \n",
    "    Objective = Multi Softmax \n",
    "    Print out the classification report"
   ]
  },
  {
   "cell_type": "code",
   "execution_count": 6,
   "id": "a6074066",
   "metadata": {},
   "outputs": [],
   "source": [
    "car_data_encoded = pd.get_dummies(car_data, columns=['buying', 'maint', 'doors', 'persons', 'lug_boot', 'safety'])\n",
    "\n",
    "# Features and target variable\n",
    "X = car_data_encoded.drop('class', axis=1)\n",
    "y = car_data_encoded['class']\n",
    "\n",
    "# Label encoding for the target variable\n",
    "label_encoder = LabelEncoder()\n",
    "y_encoded = label_encoder.fit_transform(y)\n",
    "\n",
    "# Split the data into training and testing sets\n",
    "X_train, X_test, y_train, y_test = train_test_split(X, y_encoded, test_size=0.2, random_state=42)"
   ]
  },
  {
   "cell_type": "code",
   "execution_count": 7,
   "id": "2d453009",
   "metadata": {},
   "outputs": [
    {
     "name": "stdout",
     "output_type": "stream",
     "text": [
      "Classification Report for XGBoost:\n",
      "              precision    recall  f1-score   support\n",
      "\n",
      "           0       1.00      0.92      0.96        83\n",
      "           1       0.61      1.00      0.76        11\n",
      "           2       1.00      1.00      1.00       235\n",
      "           3       1.00      1.00      1.00        17\n",
      "\n",
      "    accuracy                           0.98       346\n",
      "   macro avg       0.90      0.98      0.93       346\n",
      "weighted avg       0.99      0.98      0.98       346\n",
      "\n"
     ]
    }
   ],
   "source": [
    "xgb_classifier = XGBClassifier(objective='multi:softmax')\n",
    "xgb_classifier.fit(X_train, y_train)\n",
    "y_pred_xgb = xgb_classifier.predict(X_test)\n",
    "\n",
    "print(\"Classification Report for XGBoost:\")\n",
    "print(classification_report(y_test, y_pred_xgb))"
   ]
  },
  {
   "cell_type": "markdown",
   "id": "b9cadf82",
   "metadata": {},
   "source": [
    "2. Apply Catboost classifier on the dataset using the following parameter \n",
    "    Iterations = 150 \n",
    "    Depth = 5\n",
    "    Learning_rate = 0.3 \n",
    "    Loss_function='MultiClass'\n",
    "    Verbose for the model fit = 15 "
   ]
  },
  {
   "cell_type": "code",
   "execution_count": 8,
   "id": "c608cb59-d2ff-4c7a-9d0b-1a4feaf3ab7e",
   "metadata": {},
   "outputs": [
    {
     "name": "stdout",
     "output_type": "stream",
     "text": [
      "0:\tlearn: 0.9474975\ttotal: 143ms\tremaining: 21.3s\n",
      "15:\tlearn: 0.2026547\ttotal: 181ms\tremaining: 1.52s\n",
      "30:\tlearn: 0.1136741\ttotal: 221ms\tremaining: 848ms\n",
      "45:\tlearn: 0.0760837\ttotal: 264ms\tremaining: 597ms\n",
      "60:\tlearn: 0.0548474\ttotal: 314ms\tremaining: 458ms\n",
      "75:\tlearn: 0.0425822\ttotal: 348ms\tremaining: 339ms\n",
      "90:\tlearn: 0.0346446\ttotal: 387ms\tremaining: 251ms\n",
      "105:\tlearn: 0.0287692\ttotal: 436ms\tremaining: 181ms\n",
      "120:\tlearn: 0.0247338\ttotal: 473ms\tremaining: 113ms\n",
      "135:\tlearn: 0.0219709\ttotal: 518ms\tremaining: 53.3ms\n",
      "149:\tlearn: 0.0195640\ttotal: 592ms\tremaining: 0us\n",
      "Classification Report for CatBoost:\n",
      "              precision    recall  f1-score   support\n",
      "\n",
      "           0       1.00      0.92      0.96        83\n",
      "           1       0.59      0.91      0.71        11\n",
      "           2       1.00      1.00      1.00       235\n",
      "           3       0.94      1.00      0.97        17\n",
      "\n",
      "    accuracy                           0.98       346\n",
      "   macro avg       0.88      0.96      0.91       346\n",
      "weighted avg       0.98      0.98      0.98       346\n",
      "\n"
     ]
    }
   ],
   "source": [
    "cat_classifier = CatBoostClassifier(iterations=150, depth=5, learning_rate=0.3, loss_function='MultiClass', verbose=15)\n",
    "cat_classifier.fit(X_train, y_train)\n",
    "y_pred_cat = cat_classifier.predict(X_test)\n",
    "\n",
    "print(\"Classification Report for CatBoost:\")\n",
    "print(classification_report(y_test, y_pred_cat))"
   ]
  },
  {
   "cell_type": "markdown",
   "id": "3ebb8459",
   "metadata": {},
   "source": [
    "3. Compare the Overall Accuracy and the individual accuracy ratings between the two classifiers "
   ]
  },
  {
   "cell_type": "code",
   "execution_count": 9,
   "id": "d90f7c0b-ac52-4850-9f70-3a6d6607485c",
   "metadata": {},
   "outputs": [
    {
     "name": "stdout",
     "output_type": "stream",
     "text": [
      "Overall Accuracy - XGBoost: 0.9797687861271677\n",
      "Overall Accuracy - CatBoost: 0.518109525877911\n"
     ]
    }
   ],
   "source": [
    "accuracy_xgb = (y_test == y_pred_xgb).mean()\n",
    "accuracy_cat = (y_test == y_pred_cat).mean()\n",
    "\n",
    "print(f\"Overall Accuracy - XGBoost: {accuracy_xgb}\")\n",
    "print(f\"Overall Accuracy - CatBoost: {accuracy_cat}\")"
   ]
  }
 ],
 "metadata": {
  "kernelspec": {
   "display_name": "Python 3 (ipykernel)",
   "language": "python",
   "name": "python3"
  },
  "language_info": {
   "codemirror_mode": {
    "name": "ipython",
    "version": 3
   },
   "file_extension": ".py",
   "mimetype": "text/x-python",
   "name": "python",
   "nbconvert_exporter": "python",
   "pygments_lexer": "ipython3",
   "version": "3.11.4"
  }
 },
 "nbformat": 4,
 "nbformat_minor": 5
}
