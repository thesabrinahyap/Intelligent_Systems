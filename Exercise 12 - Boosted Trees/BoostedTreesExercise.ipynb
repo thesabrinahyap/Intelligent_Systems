{
 "cells": [
  {
   "cell_type": "code",
   "execution_count": null,
   "id": "61aecd49-49d6-4c88-b02f-443fca09128d",
   "metadata": {},
   "outputs": [],
   "source": [
    "Using the following dataset : http://archive.ics.uci.edu/dataset/19/car+evaluation"
   ]
  },
  {
   "cell_type": "code",
   "execution_count": null,
   "id": "0986c275-a282-47b0-9498-79c4979e5faf",
   "metadata": {},
   "outputs": [],
   "source": [
    "1. Apply XGBoost classifier on the dataset using the following parameter : Objective = Multi Softmax , print out the classification report"
   ]
  },
  {
   "cell_type": "code",
   "execution_count": null,
   "id": "c608cb59-d2ff-4c7a-9d0b-1a4feaf3ab7e",
   "metadata": {},
   "outputs": [],
   "source": [
    "2. Apply Catboost classifier on the dataset using the following parameter : Iterations = 150 , depth = 5, learning_rate = 0.3 , loss_function='MultiClass' "
   ]
  },
  {
   "cell_type": "code",
   "execution_count": null,
   "id": "4e2921d0-d80f-40e0-9105-6c61bb060ba3",
   "metadata": {},
   "outputs": [],
   "source": [
    "2. Also set the verbose for the Catboost model fit to 15"
   ]
  },
  {
   "cell_type": "code",
   "execution_count": null,
   "id": "d90f7c0b-ac52-4850-9f70-3a6d6607485c",
   "metadata": {},
   "outputs": [],
   "source": [
    "3. Compare the Overall Accuracy and the individual accuracy ratings between the two classifiers "
   ]
  }
 ],
 "metadata": {
  "kernelspec": {
   "display_name": "Python 3 (ipykernel)",
   "language": "python",
   "name": "python3"
  },
  "language_info": {
   "codemirror_mode": {
    "name": "ipython",
    "version": 3
   },
   "file_extension": ".py",
   "mimetype": "text/x-python",
   "name": "python",
   "nbconvert_exporter": "python",
   "pygments_lexer": "ipython3",
   "version": "3.11.5"
  }
 },
 "nbformat": 4,
 "nbformat_minor": 5
}
