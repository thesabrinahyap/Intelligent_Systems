{
 "cells": [
  {
   "cell_type": "markdown",
   "metadata": {},
   "source": [
    "# Clustering Activity"
   ]
  },
  {
   "cell_type": "code",
   "execution_count": null,
   "metadata": {},
   "outputs": [],
   "source": [
    "# Import necessary libraries\n",
    "from sklearn.datasets import make_blobs\n",
    "from sklearn.cluster import KMeans, AgglomerativeClustering, SpectralClustering\n",
    "from sklearn.metrics import adjusted_rand_score\n",
    "import skfuzzy.cluster as fuzz\n",
    "import numpy as np\n",
    "\n",
    "# Generate a hypothetical dataset\n",
    "X, y_true = make_blobs(n_samples=300, centers=4, random_state=42, cluster_std=1.0)"
   ]
  },
  {
   "cell_type": "markdown",
   "metadata": {},
   "source": [
    "Exercise: Evaluate four clustering algorithms (K-Means, Fuzzy C-Means, Spectral, and Agglomerative)\n",
    "1. Apply each clustering algorithm to the dataset where:\n",
    "- cluster_count = 4\n",
    "- random_state = 42 (where applicable)\n",
    "- do not specify affinity, metric, algo, init, linkage (if applicable)\n",
    "2. Use the **Adjusted Rand index** and **Silhouette Score** to evaluate the clustering performance.\n",
    "3. Compare the performance of the algorithms based on the aforementioned metrics and decide which algorithm is best suited for the data given."
   ]
  },
  {
   "cell_type": "code",
   "execution_count": null,
   "metadata": {},
   "outputs": [],
   "source": [
    "# code here..."
   ]
  }
 ],
 "metadata": {
  "language_info": {
   "name": "python"
  }
 },
 "nbformat": 4,
 "nbformat_minor": 2
}
