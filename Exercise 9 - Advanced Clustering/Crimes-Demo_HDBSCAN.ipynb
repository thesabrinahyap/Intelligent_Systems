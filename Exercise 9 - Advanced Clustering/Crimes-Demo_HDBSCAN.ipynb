{
 "cells": [
  {
   "cell_type": "code",
   "execution_count": null,
   "id": "e32e678d-74c4-4b52-989b-4b504ba9b391",
   "metadata": {},
   "outputs": [],
   "source": [
    "import numpy as np\n",
    "import matplotlib.pyplot as plt\n",
    "import pandas as pd\n",
    "import seaborn as sns\n",
    "import hdbscan\n",
    "\n",
    "%matplotlib inline\n",
    "sns.set_context('poster')\n",
    "sns.set_style('white')\n",
    "sns.set_color_codes()\n",
    "plot_kwds = {'alpha': 0.5, 's': 80, 'linewidths': 0}"
   ]
  },
  {
   "cell_type": "code",
   "execution_count": null,
   "id": "7df6dce7-4cd0-4000-bb72-a1feac839561",
   "metadata": {},
   "outputs": [],
   "source": [
    "test_data = pd.read_csv('city_crimes.csv', encoding='Latin-1') \n",
    "test_data.head()"
   ]
  },
  {
   "cell_type": "code",
   "execution_count": null,
   "id": "7cc4ddca-82b0-4bb9-9dc2-6d9b3c12c0d3",
   "metadata": {},
   "outputs": [],
   "source": [
    "test_data = test_data.iloc[:,[4,5]].values"
   ]
  },
  {
   "cell_type": "code",
   "execution_count": null,
   "id": "aa42341a-2154-45ca-a74f-50a496a9fe49",
   "metadata": {},
   "outputs": [],
   "source": [
    "test_data"
   ]
  },
  {
   "cell_type": "code",
   "execution_count": null,
   "id": "a758fa01-c460-42b0-b420-83bef31b7650",
   "metadata": {},
   "outputs": [],
   "source": [
    "plt.scatter(test_data[:,0], test_data[:,1], color='b', **plot_kwds)"
   ]
  },
  {
   "cell_type": "code",
   "execution_count": null,
   "id": "7be3cd71-b147-4428-9ad6-586bfca08c14",
   "metadata": {},
   "outputs": [],
   "source": [
    "clusterer = hdbscan.HDBSCAN(min_cluster_size=9, gen_min_span_tree=True)\n",
    "clusterer.fit(test_data)"
   ]
  },
  {
   "cell_type": "code",
   "execution_count": null,
   "id": "abb0b142-1544-47cb-be7c-74c1dd16449a",
   "metadata": {},
   "outputs": [],
   "source": [
    "clusterer.minimum_spanning_tree_.plot(edge_cmap='viridis',\n",
    "                                      edge_alpha=0.6,\n",
    "                                      node_size=80,\n",
    "                                      edge_linewidth=2)"
   ]
  },
  {
   "cell_type": "code",
   "execution_count": null,
   "id": "f55afef6-0ef7-4bed-96a6-37184698c990",
   "metadata": {},
   "outputs": [],
   "source": [
    "clusterer.condensed_tree_.plot()"
   ]
  },
  {
   "cell_type": "code",
   "execution_count": null,
   "id": "292f8820-8dc1-415b-8728-5dbc89c9b7cf",
   "metadata": {},
   "outputs": [],
   "source": [
    "clusterer.condensed_tree_.plot(select_clusters=True, selection_palette=sns.color_palette())"
   ]
  },
  {
   "cell_type": "code",
   "execution_count": null,
   "id": "e72e8b57-2d29-4db2-bf49-8dc8d79651cb",
   "metadata": {},
   "outputs": [],
   "source": [
    "palette = sns.color_palette()\n",
    "cluster_colors = [sns.desaturate(palette[col], sat)\n",
    "                  if col >= 0 else (0.5, 0.5, 0.5) for col, sat in\n",
    "                  zip(clusterer.labels_, clusterer.probabilities_)]\n",
    "plt.scatter(test_data.T[0], test_data.T[1], c=cluster_colors, **plot_kwds)\n",
    "plt.title(\"HDBSCAN Clustering\")\n",
    "plt.show()"
   ]
  }
 ],
 "metadata": {
  "kernelspec": {
   "display_name": "Python 3 (ipykernel)",
   "language": "python",
   "name": "python3"
  },
  "language_info": {
   "codemirror_mode": {
    "name": "ipython",
    "version": 3
   },
   "file_extension": ".py",
   "mimetype": "text/x-python",
   "name": "python",
   "nbconvert_exporter": "python",
   "pygments_lexer": "ipython3",
   "version": "3.11.4"
  }
 },
 "nbformat": 4,
 "nbformat_minor": 5
}
