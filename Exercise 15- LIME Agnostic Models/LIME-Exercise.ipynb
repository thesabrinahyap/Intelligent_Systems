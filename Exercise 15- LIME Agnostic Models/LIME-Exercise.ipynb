{
 "cells": [
  {
   "cell_type": "markdown",
   "id": "e9c8994c-b57e-41c7-b573-c003276b3bef",
   "metadata": {},
   "source": [
    "For this exercise, we will attempt to use LIME on tabular data using this dataset: https://www.kaggle.com/datasets/uciml/breast-cancer-wisconsin-data"
   ]
  },
  {
   "cell_type": "code",
   "execution_count": 1,
   "id": "384e004f-f15a-4d66-a1bd-f5f4358505c3",
   "metadata": {},
   "outputs": [],
   "source": [
    "import numpy as np\n",
    "import pandas as pd\n",
    "import lime\n",
    "import lime.lime_tabular\n",
    "\n",
    "import sklearn\n",
    "from sklearn import metrics\n",
    "from sklearn.model_selection import train_test_split\n",
    "from sklearn import ensemble as ske\n",
    "\n",
    "random_seed = 13"
   ]
  },
  {
   "cell_type": "markdown",
   "id": "3b9f716e-2f3a-46ed-96d9-e65e03c1eab1",
   "metadata": {},
   "source": [
    "1. Load the data"
   ]
  },
  {
   "cell_type": "markdown",
   "id": "86bd5b53-5d5b-42c0-a12d-9bc42dc572a9",
   "metadata": {},
   "source": [
    "2. Create 3 dataframes for each type of feature: mean, se and worst"
   ]
  },
  {
   "cell_type": "markdown",
   "id": "28c08ec6-d4ec-46c0-adb9-25bdb6a62238",
   "metadata": {},
   "source": [
    "3. Train the model with the mean dataset using all variables."
   ]
  },
  {
   "cell_type": "markdown",
   "id": "b5eda308-7f10-4d8a-89e3-2bddfa6c2a0b",
   "metadata": {},
   "source": [
    "4. Create the explainer using the lime package\n"
   ]
  },
  {
   "cell_type": "markdown",
   "id": "b11e4436-c6b8-42e2-83d2-7faa0323a8e0",
   "metadata": {},
   "source": [
    "5. Explain the instance"
   ]
  }
 ],
 "metadata": {
  "kernelspec": {
   "display_name": "Python 3 (ipykernel)",
   "language": "python",
   "name": "python3"
  },
  "language_info": {
   "codemirror_mode": {
    "name": "ipython",
    "version": 3
   },
   "file_extension": ".py",
   "mimetype": "text/x-python",
   "name": "python",
   "nbconvert_exporter": "python",
   "pygments_lexer": "ipython3",
   "version": "3.11.1"
  }
 },
 "nbformat": 4,
 "nbformat_minor": 5
}
