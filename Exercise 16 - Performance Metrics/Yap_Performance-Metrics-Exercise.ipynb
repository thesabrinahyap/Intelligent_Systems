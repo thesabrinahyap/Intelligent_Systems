{
 "cells": [
  {
   "cell_type": "markdown",
   "id": "7c5c6404-a3e8-475a-98a6-103a9c38ecbe",
   "metadata": {},
   "source": [
    "# Performance Metrics Hands-On Exercise"
   ]
  },
  {
   "cell_type": "markdown",
   "id": "965b02af-6b1a-4e65-9c54-3ec649c8c534",
   "metadata": {},
   "source": [
    "This hands-on exercise encourages the utilization of different evaluation metrics using this dataset: https://www.kaggle.com/datasets/uciml/student-alcohol-consumption\n",
    "\n",
    "Instructions:\n",
    " 1. Fork the given repository\n",
    " 2. Rename 'Exercise.ipynb' to '( lastname ).ipynb'\n",
    " 3. Load the given dataset\n",
    " 4. For No. 2-4, preprocess the dataset then construct, train, and evaluate a **classification** model (You may experiment in this step)\n",
    " 5. For No. 5-7, preprocess the dataset then construct, train, and evaluate a **regression** model (You may experiment in this step)"
   ]
  },
  {
   "cell_type": "code",
   "execution_count": 2,
   "id": "3b89e973-4d79-4f02-8f03-73d8c5cea6f3",
   "metadata": {},
   "outputs": [],
   "source": [
    "import pandas as pd\n",
    "import numpy as np\n",
    "import tensorflow as tf\n",
    "\n",
    "import matplotlib.pyplot as plt\n",
    "from sklearn.model_selection import train_test_split"
   ]
  },
  {
   "cell_type": "markdown",
   "id": "0ee4360b-babb-4e8b-b5b2-78fea12124fa",
   "metadata": {},
   "source": [
    "### 1. Load the Data"
   ]
  },
  {
   "cell_type": "code",
   "execution_count": null,
   "id": "7470bf8b-ae15-4ea5-a2de-017b721a3e6b",
   "metadata": {},
   "outputs": [],
   "source": []
  },
  {
   "cell_type": "markdown",
   "id": "0cf0211e-2cd5-441f-a06d-e14e6d6f37f4",
   "metadata": {},
   "source": [
    "### 2. Preprocess the Data (Classification)"
   ]
  },
  {
   "cell_type": "code",
   "execution_count": null,
   "id": "52c5debe-36f5-4f71-a50a-d4b76c1a11b2",
   "metadata": {},
   "outputs": [],
   "source": []
  },
  {
   "cell_type": "markdown",
   "id": "631b1d00-6792-48d7-b1a3-922f96cf3438",
   "metadata": {},
   "source": [
    "### 3. Construct and Train the Model (Classification)"
   ]
  },
  {
   "cell_type": "code",
   "execution_count": null,
   "id": "c3d763b5-9621-4b09-8ad2-eb9c378f86b0",
   "metadata": {},
   "outputs": [],
   "source": []
  },
  {
   "cell_type": "markdown",
   "id": "532a2f26-5534-48c7-b4d1-c1ccf79ded89",
   "metadata": {},
   "source": [
    "### 4. Evaluate the Model (Classification)"
   ]
  },
  {
   "cell_type": "code",
   "execution_count": null,
   "id": "7333e9cc-5ba9-4bf6-aab8-ef5ace692588",
   "metadata": {},
   "outputs": [],
   "source": []
  },
  {
   "cell_type": "markdown",
   "id": "c92a2c14-0d12-49cd-a851-778d2823a785",
   "metadata": {},
   "source": [
    "### 5. Preprocess the Data (Regression)"
   ]
  },
  {
   "cell_type": "code",
   "execution_count": null,
   "id": "a2eb362b-7ed6-4811-9978-193c1ed0cc37",
   "metadata": {},
   "outputs": [],
   "source": []
  },
  {
   "cell_type": "markdown",
   "id": "0ffad95d-d936-4cf8-ba45-1ba732cea385",
   "metadata": {},
   "source": [
    "### 6. Construct and Train the Model (Regression)"
   ]
  },
  {
   "cell_type": "code",
   "execution_count": null,
   "id": "9d325a11-749f-4058-9496-9ee10d8fb750",
   "metadata": {},
   "outputs": [],
   "source": []
  },
  {
   "cell_type": "markdown",
   "id": "c6f49d82-fef0-4188-a3ac-b286a515472e",
   "metadata": {},
   "source": [
    "### 7. Evaluate the Model (Regression)"
   ]
  },
  {
   "cell_type": "code",
   "execution_count": null,
   "id": "905b424f-7dc9-4ed5-8bf2-d1a8d283e21d",
   "metadata": {},
   "outputs": [],
   "source": []
  }
 ],
 "metadata": {
  "kernelspec": {
   "display_name": "Python 3 (ipykernel)",
   "language": "python",
   "name": "python3"
  },
  "language_info": {
   "codemirror_mode": {
    "name": "ipython",
    "version": 3
   },
   "file_extension": ".py",
   "mimetype": "text/x-python",
   "name": "python",
   "nbconvert_exporter": "python",
   "pygments_lexer": "ipython3",
   "version": "3.11.1"
  }
 },
 "nbformat": 4,
 "nbformat_minor": 5
}
