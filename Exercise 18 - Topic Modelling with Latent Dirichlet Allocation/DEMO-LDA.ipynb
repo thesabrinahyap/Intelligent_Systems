{
 "cells": [
  {
   "cell_type": "markdown",
   "id": "e5569ebe-d9bb-4017-a5d6-fd7b87c8307b",
   "metadata": {},
   "source": [
    "# LDA DEMO"
   ]
  },
  {
   "cell_type": "code",
   "execution_count": 5,
   "id": "6b481af9-3e7a-4407-8bde-8d01b5d3b738",
   "metadata": {},
   "outputs": [],
   "source": [
    "# Import necessary libraries\n",
    "import spacy\n",
    "import gensim\n",
    "from gensim import corpora\n",
    "from pprint import pprint\n",
    "\n",
    "# Load spaCy's English NLP model\n",
    "nlp = spacy.load('en_core_web_sm')\n"
   ]
  },
  {
   "cell_type": "markdown",
   "id": "56591d37-365b-4b44-b0a2-f00900104823",
   "metadata": {},
   "source": [
    "# Sample documents for demonstration"
   ]
  },
  {
   "cell_type": "code",
   "execution_count": 1,
   "id": "f72f3c3a-5ca9-4272-8d27-c5af9b0754c1",
   "metadata": {},
   "outputs": [],
   "source": [
    "# \n",
    "documents = [\n",
    "    \"Natural language processing is a subfield of artificial intelligence.\",\n",
    "    \"Latent Dirichlet Allocation is a generative probabilistic model.\",\n",
    "    \"Topic modeling is used to identify topics present in a corpus of text.\",\n",
    "    \"Gensim is a popular Python library for topic modeling and document similarity.\"\n",
    "]"
   ]
  },
  {
   "cell_type": "markdown",
   "id": "6b04ad12-95ea-4a0a-ac49-f4ee9fbaeee2",
   "metadata": {},
   "source": [
    "# Preprocess the documents"
   ]
  },
  {
   "cell_type": "code",
   "execution_count": 3,
   "id": "a97f87a2-a9f4-4557-aef6-c921bda4e2b6",
   "metadata": {},
   "outputs": [],
   "source": [
    "\n",
    "def preprocess(text):\n",
    "    # Tokenize and lemmatize using spaCy\n",
    "    doc = nlp(text)\n",
    "    tokens = [token.lemma_ for token in doc if not token.is_stop and token.is_alpha]\n",
    "    return tokens\n",
    "\n",
    "# Apply preprocessing to all documents\n",
    "processed_documents = [preprocess(doc) for doc in documents]\n",
    "\n",
    "# Create a dictionary and corpus for LDA\n",
    "dictionary = corpora.Dictionary(processed_documents)\n",
    "corpus = [dictionary.doc2bow(doc) for doc in processed_documents]\n",
    "\n",
    "# Build LDA model\n",
    "lda_model = gensim.models.LdaModel(corpus, num_topics=3, id2word=dictionary, passes=15)\n",
    "\n"
   ]
  },
  {
   "cell_type": "markdown",
   "id": "05542fa2-2765-4327-bb81-27e6b2d629ef",
   "metadata": {},
   "source": [
    "# Print topics and their keywords"
   ]
  },
  {
   "cell_type": "code",
   "execution_count": 9,
   "id": "1f567bec-dfdf-4dd8-80b3-169eb11aa978",
   "metadata": {},
   "outputs": [
    {
     "name": "stdout",
     "output_type": "stream",
     "text": [
      "[(0,\n",
      "  '0.157*\"topic\" + 0.089*\"modeling\" + 0.089*\"identify\" + 0.089*\"corpus\" + '\n",
      "  '0.089*\"text\" + 0.089*\"present\" + 0.022*\"library\" + 0.022*\"similarity\" + '\n",
      "  '0.022*\"Gensim\" + 0.022*\"document\"'),\n",
      " (1,\n",
      "  '0.061*\"popular\" + 0.061*\"document\" + 0.061*\"Python\" + 0.061*\"Gensim\" + '\n",
      "  '0.061*\"similarity\" + 0.061*\"library\" + 0.061*\"model\" + 0.061*\"Latent\" + '\n",
      "  '0.061*\"Dirichlet\" + 0.061*\"Allocation\"'),\n",
      " (2,\n",
      "  '0.095*\"natural\" + 0.095*\"subfield\" + 0.095*\"artificial\" + '\n",
      "  '0.095*\"processing\" + 0.095*\"intelligence\" + 0.095*\"language\" + '\n",
      "  '0.024*\"topic\" + 0.024*\"modeling\" + 0.024*\"probabilistic\" + '\n",
      "  '0.024*\"generative\"')]\n"
     ]
    }
   ],
   "source": [
    "pprint(lda_model.print_topics())"
   ]
  },
  {
   "cell_type": "raw",
   "id": "c7bc7e95-7c82-4bcd-994e-caf4d5498317",
   "metadata": {},
   "source": [
    "0 -- Gensim lib\n",
    "1 -- python prog, LDA\n",
    "2 -- NLP\n",
    "\n",
    "  1- \"Natural language processing is a subfield of artificial intelligence.\",\n",
    "   2 \"Latent Dirichlet Allocation is a generative probabilistic model.\",\n",
    "   3 \"Topic modeling is used to identify topics present in a corpus of text.\",\n",
    "   4 \"Gensim is a popular Python library for topic modeling and document similarity.\""
   ]
  },
  {
   "cell_type": "markdown",
   "id": "000de19a-8dd4-40e5-966b-25442d67ce78",
   "metadata": {},
   "source": [
    "# Assign topics to documents"
   ]
  },
  {
   "cell_type": "code",
   "execution_count": 7,
   "id": "da343547-03b4-41b6-b1b6-1faba58a87a5",
   "metadata": {},
   "outputs": [
    {
     "name": "stdout",
     "output_type": "stream",
     "text": [
      "Document 1 - Topic: [(0, 0.047924496), (1, 0.047823634), (2, 0.9042519)]\n",
      "Document 2 - Topic: [(0, 0.048110045), (1, 0.9037409), (2, 0.048149098)]\n",
      "Document 3 - Topic: [(0, 0.91514033), (1, 0.042932756), (2, 0.0419269)]\n",
      "Document 4 - Topic: [(0, 0.04168155), (1, 0.9208708), (2, 0.037447672)]\n"
     ]
    }
   ],
   "source": [
    "# Assign topics to documents\n",
    "for i, doc in enumerate(processed_documents):\n",
    "    print(f\"Document {i+1} - Topic: {lda_model.get_document_topics(corpus[i])}\")"
   ]
  },
  {
   "cell_type": "markdown",
   "id": "17631d05-4439-4d2d-a59a-fe43b98bf5f9",
   "metadata": {},
   "source": [
    "#                   "
   ]
  },
  {
   "cell_type": "markdown",
   "id": "5cbf91b0-fe18-489a-a7f4-d97b0b4c1eed",
   "metadata": {},
   "source": [
    "# Mini Exercise hehe"
   ]
  },
  {
   "cell_type": "markdown",
   "id": "60bad36b-18ab-422e-a1ce-c23b2254a9af",
   "metadata": {},
   "source": [
    "Instructions:\r\n",
    "\r\n",
    "Use the provided Python code to perform topic modeling on a set of sample documents.\r\n",
    "Modify the sample documents or add your own to see how the results change.\r\n",
    "Experiment with the number of topics (parameter: num_topics) in the LDA model. Observe how different numbers of topics impact the resu\n",
    "\n",
    "lMake a small insight on what you have observe when you change, increase, or decrease some parameters.(Short Essay lang)opics?"
   ]
  },
  {
   "cell_type": "code",
   "execution_count": null,
   "id": "40a1caf1-caf9-4fe1-b9b1-d6a1b23b4507",
   "metadata": {},
   "outputs": [],
   "source": []
  }
 ],
 "metadata": {
  "kernelspec": {
   "display_name": "Python 3 (ipykernel)",
   "language": "python",
   "name": "python3"
  },
  "language_info": {
   "codemirror_mode": {
    "name": "ipython",
    "version": 3
   },
   "file_extension": ".py",
   "mimetype": "text/x-python",
   "name": "python",
   "nbconvert_exporter": "python",
   "pygments_lexer": "ipython3",
   "version": "3.12.0"
  }
 },
 "nbformat": 4,
 "nbformat_minor": 5
}
