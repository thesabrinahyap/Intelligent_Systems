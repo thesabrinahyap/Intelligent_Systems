{
 "cells": [
  {
   "cell_type": "markdown",
   "id": "e5569ebe-d9bb-4017-a5d6-fd7b87c8307b",
   "metadata": {},
   "source": [
    "# LDA Exercises"
   ]
  },
  {
   "cell_type": "code",
   "execution_count": 1,
   "id": "6b481af9-3e7a-4407-8bde-8d01b5d3b738",
   "metadata": {},
   "outputs": [],
   "source": [
    "# Import necessary libraries\n",
    "import spacy\n",
    "import gensim\n",
    "from gensim import corpora\n",
    "from pprint import pprint\n",
    "\n",
    "# Load spaCy's English NLP model\n",
    "nlp = spacy.load('en_core_web_sm')\n"
   ]
  },
  {
   "cell_type": "markdown",
   "id": "56591d37-365b-4b44-b0a2-f00900104823",
   "metadata": {},
   "source": [
    "# Sample documents for demonstration"
   ]
  },
  {
   "cell_type": "code",
   "execution_count": 2,
   "id": "f72f3c3a-5ca9-4272-8d27-c5af9b0754c1",
   "metadata": {},
   "outputs": [],
   "source": [
    "# documents = [\n",
    "#    \"Natural language processing is a subfield of artificial intelligence.\",\n",
    "#    \"Latent Dirichlet Allocation is a generative probabilistic model.\",\n",
    "#    \"Topic modeling is used to identify topics present in a corpus of text.\",\n",
    "#    \"Gensim is a popular Python library for topic modeling and document similarity.\"\n",
    "# ]\n",
    "\n",
    "documents = [\n",
    "    \"The nice thing about Eventbrite is that it's free to use as long as you're not charging for the event. There is a fee if you are charging for the event -  2.5% plus a $0.99 transaction fee.\",\n",
    "    \"We have the gold level plan and use it for everything, love the features! It is one of the best bang for buck possible.\",\n",
    "    \"Machine learning is a branch of artificial intelligence (AI) and computer science which focuses on the use of data and algorithms to imitate the way that humans learn, gradually improving its accuracy. \\n IBM has a rich history with machine learning. One of its own, Arthur Samuel, is credited for coining the term, “machine learning” with his research (link resides outside ibm.com) around the game of checkers. Robert Nealey, the self-proclaimed checkers master, played the game on an IBM 7094 computer in 1962, and he lost to the computer. Compared to what can be done today, this feat seems trivial, but its considered a major milestone in the field of artificial intelligence.\"\n",
    "]"
   ]
  },
  {
   "cell_type": "markdown",
   "id": "6b04ad12-95ea-4a0a-ac49-f4ee9fbaeee2",
   "metadata": {},
   "source": [
    "# Preprocess the documents"
   ]
  },
  {
   "cell_type": "code",
   "execution_count": 3,
   "id": "a97f87a2-a9f4-4557-aef6-c921bda4e2b6",
   "metadata": {},
   "outputs": [],
   "source": [
    "def preprocess(text):\n",
    "    # Tokenize and lemmatize using spaCy\n",
    "    doc = nlp(text)\n",
    "    tokens = [token.lemma_ for token in doc if not token.is_stop and token.is_alpha]\n",
    "    return tokens\n",
    "\n",
    "# Apply preprocessing to all documents\n",
    "processed_documents = [preprocess(doc) for doc in documents]\n",
    "\n",
    "# Create a dictionary and corpus for LDA\n",
    "dictionary = corpora.Dictionary(processed_documents)\n",
    "corpus = [dictionary.doc2bow(doc) for doc in processed_documents]\n",
    "\n",
    "# Build LDA model\n",
    "lda_model = gensim.models.LdaModel(corpus, num_topics=4, id2word=dictionary, passes=10)"
   ]
  },
  {
   "cell_type": "markdown",
   "id": "05542fa2-2765-4327-bb81-27e6b2d629ef",
   "metadata": {},
   "source": [
    "# Print topics and their keywords"
   ]
  },
  {
   "cell_type": "code",
   "execution_count": 4,
   "id": "1f567bec-dfdf-4dd8-80b3-169eb11aa978",
   "metadata": {},
   "outputs": [
    {
     "name": "stdout",
     "output_type": "stream",
     "text": [
      "[(0,\n",
      "  '0.015*\"computer\" + 0.015*\"learning\" + 0.015*\"game\" + 0.015*\"checker\" + '\n",
      "  '0.015*\"machine\" + 0.015*\"artificial\" + 0.015*\"IBM\" + 0.015*\"way\" + '\n",
      "  '0.015*\"intelligence\" + 0.015*\"improve\"'),\n",
      " (1,\n",
      "  '0.036*\"machine\" + 0.036*\"learning\" + 0.036*\"computer\" + 0.025*\"fee\" + '\n",
      "  '0.025*\"event\" + 0.025*\"charge\" + 0.025*\"use\" + 0.025*\"checker\" + '\n",
      "  '0.025*\"IBM\" + 0.025*\"intelligence\"'),\n",
      " (2,\n",
      "  '0.046*\"use\" + 0.046*\"feature\" + 0.046*\"plan\" + 0.046*\"level\" + '\n",
      "  '0.046*\"possible\" + 0.046*\"good\" + 0.046*\"love\" + 0.046*\"gold\" + '\n",
      "  '0.046*\"bang\" + 0.046*\"buck\"'),\n",
      " (3,\n",
      "  '0.015*\"learning\" + 0.015*\"computer\" + 0.015*\"machine\" + 0.015*\"game\" + '\n",
      "  '0.015*\"artificial\" + 0.015*\"intelligence\" + 0.015*\"checker\" + 0.015*\"IBM\" + '\n",
      "  '0.015*\"reside\" + 0.015*\"field\"')]\n"
     ]
    }
   ],
   "source": [
    "pprint(lda_model.print_topics())"
   ]
  },
  {
   "cell_type": "markdown",
   "id": "000de19a-8dd4-40e5-966b-25442d67ce78",
   "metadata": {},
   "source": [
    "# Assign topics to documents"
   ]
  },
  {
   "cell_type": "code",
   "execution_count": 5,
   "id": "da343547-03b4-41b6-b1b6-1faba58a87a5",
   "metadata": {},
   "outputs": [
    {
     "name": "stdout",
     "output_type": "stream",
     "text": [
      "Document 1 - Topic: [(0, 0.016740048), (1, 0.94969594), (2, 0.016823826), (3, 0.016740168)]\n",
      "Document 2 - Topic: [(0, 0.022768468), (1, 0.022826113), (2, 0.93163687), (3, 0.022768535)]\n",
      "Document 3 - Topic: [(1, 0.9874393)]\n"
     ]
    }
   ],
   "source": [
    "# Assign topics to documents\n",
    "for i, doc in enumerate(processed_documents):\n",
    "    print(f\"Document {i+1} - Topic: {lda_model.get_document_topics(corpus[i])}\")"
   ]
  },
  {
   "cell_type": "markdown",
   "id": "17631d05-4439-4d2d-a59a-fe43b98bf5f9",
   "metadata": {},
   "source": [
    "#                   "
   ]
  },
  {
   "cell_type": "markdown",
   "id": "5cbf91b0-fe18-489a-a7f4-d97b0b4c1eed",
   "metadata": {},
   "source": [
    "# Mini Exercise hehe"
   ]
  },
  {
   "cell_type": "markdown",
   "id": "60bad36b-18ab-422e-a1ce-c23b2254a9af",
   "metadata": {},
   "source": [
    "Instructions:\n",
    "\n",
    "Use the provided Python code to perform topic modeling on a set of sample documents.\n",
    "Modify the sample documents or add your own to see how the results change.\n",
    "Experiment with the number of topics (parameter: num_topics) in the LDA model. Observe how different numbers of topics impact the results\n",
    "\n",
    "Make a small insight on what you have observe when you change, increase, or decrease some parameters.(Short Essay lang)"
   ]
  },
  {
   "cell_type": "code",
   "execution_count": null,
   "id": "40a1caf1-caf9-4fe1-b9b1-d6a1b23b4507",
   "metadata": {},
   "outputs": [],
   "source": []
  }
 ],
 "metadata": {
  "kernelspec": {
   "display_name": "Python 3 (ipykernel)",
   "language": "python",
   "name": "python3"
  },
  "language_info": {
   "codemirror_mode": {
    "name": "ipython",
    "version": 3
   },
   "file_extension": ".py",
   "mimetype": "text/x-python",
   "name": "python",
   "nbconvert_exporter": "python",
   "pygments_lexer": "ipython3",
   "version": "3.10.11"
  }
 },
 "nbformat": 4,
 "nbformat_minor": 5
}
